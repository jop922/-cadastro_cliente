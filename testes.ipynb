{
 "cells": [
  {
   "cell_type": "code",
   "execution_count": 12,
   "metadata": {},
   "outputs": [
    {
     "name": "stdout",
     "output_type": "stream",
     "text": [
      "[42S02] [Microsoft][ODBC SQL Server Driver][SQL Server]Nome de objeto 'cadastro' inválido. (208) (SQLExecDirectW)\n"
     ]
    }
   ],
   "source": [
    "import pyodbc\n",
    "conn_str = 'DRIVER={SQL Server};SERVER=server_name;DATABASE=db_name;UID=your_username;PWD=your_password'\n",
    "connection_string = 'DSN=YourDSNName;UID=your_username;PWD=your_password'\n",
    "\n",
    "\n",
    "try:\n",
    "    conn = pyodbc.connect('DSN=cadastro_cliente;UID=sa;PWD=97519242')\n",
    "    cursor = conn.cursor()\n",
    "    cursor.execute(\"SELECT * FROM cadastro\")\n",
    "    for row in cursor.fetchall():\n",
    "        print(row)\n",
    "except pyodbc.Error as ex:\n",
    "    sqlstate = ex.args[1]\n",
    "    print(sqlstate)\n"
   ]
  }
 ],
 "metadata": {
  "kernelspec": {
   "display_name": ".venv",
   "language": "python",
   "name": "python3"
  },
  "language_info": {
   "codemirror_mode": {
    "name": "ipython",
    "version": 3
   },
   "file_extension": ".py",
   "mimetype": "text/x-python",
   "name": "python",
   "nbconvert_exporter": "python",
   "pygments_lexer": "ipython3",
   "version": "3.11.4"
  }
 },
 "nbformat": 4,
 "nbformat_minor": 2
}
